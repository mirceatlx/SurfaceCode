{
 "cells": [
  {
   "cell_type": "code",
   "execution_count": 1,
   "metadata": {},
   "outputs": [],
   "source": [
    "# imports\n",
    "\n",
    "from surfacecode.logical_qubit import LQubit\n",
    "from surfacecode.circuits import SquareLattice\n",
    "from surfacecode.lattice import *\n",
    "from surfacecode.simulators import *\n",
    "from surfacecode.surface import *\n",
    "from surfacecode.mwpm import ParityCheckMatrix, ErrorCorrection\n",
    "\n",
    "from qiskit_aer import AerSimulator\n",
    "from qiskit import transpile\n",
    "from qiskit_aer.noise import (NoiseModel, QuantumError, ReadoutError,\n",
    "    pauli_error, depolarizing_error, thermal_relaxation_error, amplitude_damping_error, phase_damping_error)\n",
    "from qiskit_ibm_provider import IBMProvider, least_busy\n",
    "\n",
    "import numpy as np\n",
    "import matplotlib.pyplot as plt\n",
    "from tqdm import tqdm\n"
   ]
  },
  {
   "cell_type": "code",
   "execution_count": 2,
   "metadata": {},
   "outputs": [],
   "source": [
    "WIDTH, HEIGHT = 3, 9\n",
    "l = (7, 19)\n",
    "\n",
    "lattice = SquareLattice(WIDTH, HEIGHT)\n",
    "qubit = LQubit(lattice, l[0], l[1], True)\n",
    "cycle = SurfaceCodeCycle(lattice)\n",
    "num_qubits = WIDTH * HEIGHT"
   ]
  },
  {
   "cell_type": "code",
   "execution_count": 3,
   "metadata": {},
   "outputs": [],
   "source": [
    "qc = ConstrainedQuantumCircuit(lattice, WIDTH * HEIGHT)\n",
    "qc.add_register(ClassicalRegister(num_qubits))\n",
    "qc = qc.compose(cycle._circuit(1), list(range(num_qubits)), list(range(num_qubits)))\n",
    "\n",
    "qc.add_register(ClassicalRegister(num_qubits + len(qubit.route(l[0],l[1])) // 2))\n",
    "qc = qc.compose(qubit.alt_initialize(cycle), list(range(num_qubits)), list(range(num_qubits, 2 * num_qubits + len(qubit.route(l[0],l[1])) // 2)))\n",
    "\n",
    "qc.add_register(ClassicalRegister(num_qubits))\n",
    "qc = qc.compose(cycle._circuit(1), list(range(num_qubits)), list(range(2 * num_qubits + len(qubit.route(l[0],l[1])) // 2, 3 * num_qubits + len(qubit.route(l[0],l[1])) // 2)))\n",
    "\n",
    "qc = qc.compose(qubit.circle_gate())\n",
    "\n",
    "qc.add_register(ClassicalRegister(num_qubits))\n",
    "qc = qc.compose(cycle._circuit(1), list(range(num_qubits)), list(range(3 * num_qubits + len(qubit.route(l[0],l[1])) // 2, 4 * num_qubits + len(qubit.route(l[0],l[1])) // 2)))\n",
    "\n",
    "#qc.add_register(ClassicalRegister(num_qubits))\n",
    "#qc = qc.compose(cycle._circuit(1), list(range(num_qubits)), list(range(4 * num_qubits + len(qubit.route(l[0],l[1])) // 2, 5 * num_qubits + len(qubit.route(l[0],l[1])) // 2)))\n",
    "\n",
    "qc.add_register(ClassicalRegister(2))\n",
    "qc = qc.compose(qubit.alt_measure(), list(range(num_qubits)), list(range(4 * num_qubits + len(qubit.route(l[0],l[1])) // 2, 4 * num_qubits + len(qubit.route(l[0],l[1])) // 2 + 2)))"
   ]
  },
  {
   "cell_type": "code",
   "execution_count": 6,
   "metadata": {},
   "outputs": [],
   "source": [
    "noise_model = NoiseModel()\n",
    "error_amplitude = amplitude_damping_error(0.5)\n",
    "error_phase = phase_damping_error(0.1)\n",
    "noise_model.add_all_qubit_quantum_error(error_amplitude, ['x', 'z', 'h'])\n",
    "\n",
    "aersim = AerSimulator(method=\"statevector\", noise_model=noise_model)\n",
    "built = transpile(qc, aersim)\n",
    "job = aersim.run(built, shots=1)\n",
    "result = job.result()"
   ]
  },
  {
   "cell_type": "code",
   "execution_count": 7,
   "metadata": {},
   "outputs": [
    {
     "data": {
      "text/plain": [
       "{'11 000000000000010000000000000 000100000000010000000101000 00010000000100010000000000010 000000000000000000000000000': 1}"
      ]
     },
     "execution_count": 7,
     "metadata": {},
     "output_type": "execute_result"
    }
   ],
   "source": [
    "result.get_counts()"
   ]
  },
  {
   "cell_type": "code",
   "execution_count": null,
   "metadata": {},
   "outputs": [],
   "source": [
    "10 - initilzation and measure\n",
    "10 - single qubit gate"
   ]
  }
 ],
 "metadata": {
  "kernelspec": {
   "display_name": "surface",
   "language": "python",
   "name": "python3"
  },
  "language_info": {
   "codemirror_mode": {
    "name": "ipython",
    "version": 3
   },
   "file_extension": ".py",
   "mimetype": "text/x-python",
   "name": "python",
   "nbconvert_exporter": "python",
   "pygments_lexer": "ipython3",
   "version": "3.12.1"
  }
 },
 "nbformat": 4,
 "nbformat_minor": 2
}
