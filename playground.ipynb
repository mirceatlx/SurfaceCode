{
 "cells": [
  {
   "cell_type": "code",
   "execution_count": null,
   "metadata": {},
   "outputs": [],
   "source": [
    "from surfacecode.lattice import SquareLattice\n",
    "from surfacecode.surface import Cycle, SurfaceCodeCycle\n",
    "from qiskit_ibm_runtime import QiskitRuntimeService\n",
    "from qiskit import execute\n",
    "\n",
    "service = QiskitRuntimeService()"
   ]
  },
  {
   "cell_type": "code",
   "execution_count": null,
   "metadata": {},
   "outputs": [],
   "source": [
    "lattice = SquareLattice(7, 5)\n",
    "cycle = SurfaceCodeCycle(lattice)\n",
    "cycle.lattice.nodes"
   ]
  },
  {
   "cell_type": "code",
   "execution_count": null,
   "metadata": {
    "scrolled": true
   },
   "outputs": [],
   "source": [
    "qc = cycle._circuit(2)\n",
    "qc.draw()"
   ]
  },
  {
   "cell_type": "code",
   "execution_count": null,
   "metadata": {},
   "outputs": [],
   "source": [
    "from qiskit_ibm_runtime import Sampler\n",
    "backend = service.get_backend(\"simulator_stabilizer\")\n",
    "sampler = Sampler(backend=backend)\n",
    "job = sampler.run(qc.measure_all(inplace=False), shots=1)\n"
   ]
  },
  {
   "cell_type": "code",
   "execution_count": null,
   "metadata": {},
   "outputs": [],
   "source": [
    "result = job.result()\n",
    "result"
   ]
  },
  {
   "cell_type": "code",
   "execution_count": null,
   "metadata": {},
   "outputs": [],
   "source": [
    "from qiskit.result import ProbDistribution\n",
    "binary = ProbDistribution(result.quasi_dists[0]).binary_probabilities()\n",
    "qstate = list(binary.keys())[0]\n",
    "# qstate = \"000000000100000000000100010000000000000100000101000000011000001111000\"\n",
    "# print(qstate[len(qstate) - 7*5//2 :])\n",
    "# print(qstate[len(qstate) - 7*5: len(qstate) - 7*5//2])\n",
    "print(qstate[len(qstate)- 7*5 : ])\n",
    "print(qstate[len(qstate) - 7*5 * 2 : len(qstate) - 7*5])\n",
    "print(qstate)\n",
    "print(len(qstate))"
   ]
  },
  {
   "cell_type": "code",
   "execution_count": null,
   "metadata": {},
   "outputs": [],
   "source": [
    "from surfacecode.circuits import SurfaceCodeBuilder\n",
    "lattice = SquareLattice(7, 5)\n",
    "builder = SurfaceCodeBuilder(lattice)\n",
    "qc = builder._build(2)\n",
    "qc.measure_all()\n",
    "qc.draw()"
   ]
  },
  {
   "cell_type": "code",
   "execution_count": null,
   "metadata": {},
   "outputs": [],
   "source": [
    "from surfacecode.circuits import SurfaceCodeBuilder\n",
    "lattice = SquareLattice(7, 5)\n",
    "builder = SurfaceCodeBuilder(lattice)\n",
    "qc = builder._build(2)\n",
    "\n",
    "backend = service.get_backend(\"simulator_stabilizer\")\n",
    "sampler = Sampler(backend=backend)\n",
    "job = sampler.run(qc.measure_all(inplace=False), shots=1)\n",
    "result = job.result()"
   ]
  },
  {
   "cell_type": "code",
   "execution_count": null,
   "metadata": {},
   "outputs": [],
   "source": [
    "from qiskit.result import ProbDistribution\n",
    "binary = ProbDistribution(result.quasi_dists[0]).binary_probabilities()\n",
    "qstate = list(binary.keys())[0]\n",
    "# qstate = \"000000000100000000000100010000000000000100000101000000011000001111000\"\n",
    "# print(qstate[len(qstate) - 7*5//2 :])\n",
    "# print(qstate[len(qstate) - 7*5: len(qstate) - 7*5//2])\n",
    "print(qstate[len(qstate)- 7*5//2 : ])\n",
    "print(qstate[len(qstate) - 7*5 + 1 : len(qstate) - 7*5//2])\n",
    "print(qstate)\n",
    "print(len(qstate))"
   ]
  },
  {
   "cell_type": "code",
   "execution_count": null,
   "metadata": {},
   "outputs": [],
   "source": [
    "from surfacecode.lattice import HeavyHexLattice\n",
    "from surfacecode.adapter import DirectMap\n",
    "\n",
    "lattice = HeavyHexLattice(5)\n",
    "adapter = DirectMap(lattice)\n",
    "print(adapter.nodes)\n",
    "print(adapter.graph)"
   ]
  },
  {
   "cell_type": "code",
   "execution_count": null,
   "metadata": {},
   "outputs": [],
   "source": [
    "from surfacecode.circuits import SurfaceCodeBuilder\n",
    "from surfacecode.lattice import HeavyHexLattice\n",
    "from surfacecode.adapter import DirectMap\n",
    "from qiskit_ibm_runtime import Sampler\n",
    "\n",
    "lattice = HeavyHexLattice(5)\n",
    "adapter = DirectMap(lattice)\n",
    "builder = SurfaceCodeBuilder(adapter)\n",
    "qc = builder._build(2)\n",
    "\n",
    "backend = service.get_backend(\"simulator_stabilizer\")\n",
    "sampler = Sampler(backend=backend)\n",
    "job = sampler.run(qc.measure_all(inplace=False), shots=1)\n",
    "result = job.result()"
   ]
  },
  {
   "cell_type": "code",
   "execution_count": null,
   "metadata": {},
   "outputs": [],
   "source": [
    "from qiskit.result import ProbDistribution\n",
    "binary = ProbDistribution(result.quasi_dists[0]).binary_probabilities()\n",
    "qstate = list(binary.keys())[0]\n",
    "# qstate = \"000000000100000000000100010000000000000100000101000000011000001111000\"\n",
    "# print(qstate[len(qstate) - 7*5//2 :])\n",
    "# print(qstate[len(qstate) - 7*5: len(qstate) - 7*5//2])\n",
    "print(qstate[len(qstate)- len(adapter.nodes): ])\n",
    "print(qstate[len(qstate) - 2*len(adapter.nodes) : len(qstate) - len(adapter.nodes)])\n",
    "print(qstate)\n",
    "print(len(qstate))"
   ]
  },
  {
   "cell_type": "code",
   "execution_count": null,
   "metadata": {},
   "outputs": [],
   "source": [
    "qc.draw()"
   ]
  },
  {
   "cell_type": "code",
   "execution_count": null,
   "metadata": {},
   "outputs": [],
   "source": [
    "len(\"1010100000011110100001011111000010000000000000101000000010101010000000\")"
   ]
  },
  {
   "cell_type": "code",
   "execution_count": null,
   "metadata": {
    "scrolled": true
   },
   "outputs": [],
   "source": [
    "qc.measure_all(inplace=False).draw()"
   ]
  },
  {
   "cell_type": "code",
   "execution_count": null,
   "metadata": {},
   "outputs": [],
   "source": [
    "len(\"000000000000000000000100010000000000000000000101000000001100000100000\")"
   ]
  },
  {
   "cell_type": "code",
   "execution_count": null,
   "metadata": {},
   "outputs": [],
   "source": [
    "len(\"000000000000000000000\")"
   ]
  },
  {
   "cell_type": "code",
   "execution_count": null,
   "metadata": {},
   "outputs": [],
   "source": [
    "from surfacecode.lattice import HeavyHexLattice\n",
    "lattice = HeavyHexLattice(5)\n"
   ]
  },
  {
   "cell_type": "code",
   "execution_count": null,
   "metadata": {},
   "outputs": [],
   "source": [
    "from surfacecode.lattice import DataNode, FlagNode, AncillaNode\n",
    "print(len(lattice.nodes))\n",
    "print(lattice.graph)\n",
    "lattice.nodes_num\n",
    "# [(i, type(node)) for i, node in enumerate(lattice.nodes)]\n"
   ]
  },
  {
   "cell_type": "code",
   "execution_count": null,
   "metadata": {},
   "outputs": [],
   "source": [
    "list(reversed(range(0, 5)))"
   ]
  },
  {
   "cell_type": "code",
   "execution_count": null,
   "metadata": {},
   "outputs": [],
   "source": [
    "from surfacecode.circuits import CircuitBuilder\n",
    "from surfacecode.lattice import SquareLattice\n",
    "\n",
    "lattice = SquareLattice(5, 5)\n",
    "builder = CircuitBuilder(lattice)\n",
    "builder.x([0, 1, 2])\n",
    "builder.h([0, 1, 2])\n",
    "builder.z([0, 1, 2])\n",
    "builder.y([0, 1, 3])\n",
    "builder.cx(0, 1)\n",
    "builder.cx(0, 2)\n",
    "builder.cx(4, 9)\n",
    "builder.cx(4, 5)\n",
    "builder._build().draw()"
   ]
  },
  {
   "cell_type": "code",
   "execution_count": null,
   "metadata": {},
   "outputs": [],
   "source": [
    "from surfacecode.lattice import HeavyHexLattice\n",
    "lattice = HeavyHexLattice(5)\n",
    "builder = CircuitBuilder(lattice)\n",
    "builder.x([0, 1, 2])\n",
    "builder.h([0, 1, 2])\n",
    "builder.z([0, 1, 2])\n",
    "builder.y([0, 1, 3])\n",
    "builder.cx(0, 1)\n",
    "builder.cx(0, 2)\n",
    "builder.cx(9, 4)\n",
    "builder.cx(4, 5)\n",
    "builder._build().draw()"
   ]
  },
  {
   "cell_type": "code",
   "execution_count": null,
   "metadata": {},
   "outputs": [],
   "source": [
    "shortest_paths"
   ]
  },
  {
   "cell_type": "code",
   "execution_count": null,
   "metadata": {},
   "outputs": [],
   "source": [
    "from qiskit import *\n",
    "qc = QuantumCircuit(4)\n",
    "qc.x([0])\n",
    "qc.add_register(ClassicalRegister(10))\n",
    "qc.add_register(ClassicalRegister(2))\n",
    "qc.measure(0, 0)\n",
    "qc.measure(1, 1)\n",
    "\n",
    "qc.draw()"
   ]
  },
  {
   "cell_type": "code",
   "execution_count": null,
   "metadata": {},
   "outputs": [],
   "source": [
    "from qiskit import QuantumCircuit\n",
    "from surfacecode.circuits import ConstrainedQuantumCircuit\n",
    "from surfacecode.lattice import *\n",
    "qc = QuantumCircuit(9)\n",
    "qc.h([0])\n",
    "\n",
    "lattice = SquareLattice(3,3)\n",
    "cqc = ConstrainedQuantumCircuit(lattice, 9)\n",
    "cqc.cx(0, 8)\n",
    "qc.append(cqc,range(0, 9))\n",
    "qc.decompose().draw()"
   ]
  },
  {
   "cell_type": "code",
   "execution_count": null,
   "metadata": {},
   "outputs": [],
   "source": [
    "def foo(*args):\n",
    "    for a in args:\n",
    "        print(a)\n",
    "\n",
    "\n",
    "foo((1,2))"
   ]
  },
  {
   "cell_type": "code",
   "execution_count": null,
   "metadata": {},
   "outputs": [],
   "source": [
    "from qiskit import QuantumRegister\n",
    "qc = QuantumCircuit(QuantumRegister(2), QuantumRegister(2))\n",
    "qc.h(range(0, 4))\n",
    "qc.draw()"
   ]
  },
  {
   "cell_type": "code",
   "execution_count": null,
   "metadata": {},
   "outputs": [],
   "source": [
    "class A:\n",
    "    def __init__(self, name):\n",
    "        self.name = name\n",
    "\n",
    "a = A(1)\n",
    "d = {i.name : 777 for i in [a]}\n",
    "for i in d:\n",
    "    print(i)"
   ]
  },
  {
   "cell_type": "code",
   "execution_count": null,
   "metadata": {},
   "outputs": [],
   "source": []
  }
 ],
 "metadata": {
  "kernelspec": {
   "display_name": "Python 3 (ipykernel)",
   "language": "python",
   "name": "python3"
  },
  "language_info": {
   "codemirror_mode": {
    "name": "ipython",
    "version": 3
   },
   "file_extension": ".py",
   "mimetype": "text/x-python",
   "name": "python",
   "nbconvert_exporter": "python",
   "pygments_lexer": "ipython3",
   "version": "3.12.1"
  }
 },
 "nbformat": 4,
 "nbformat_minor": 4
}
