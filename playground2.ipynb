{
 "cells": [
  {
   "cell_type": "code",
   "execution_count": 15,
   "metadata": {},
   "outputs": [],
   "source": [
    "from qiskit import QuantumCircuit, transpile\n",
    "from qiskit_aer import AerSimulator\n",
    "from surfacecode.lattice import *\n",
    "from surfacecode.circuits import *\n",
    "from surfacecode.surface import *\n",
    "from surfacecode.logical_qubit import *\n",
    "from surfacecode.parser import *\n",
    "from surfacecode.adapter import *\n",
    "from surfacecode.nodes import *"
   ]
  },
  {
   "cell_type": "code",
   "execution_count": 37,
   "metadata": {},
   "outputs": [
    {
     "data": {
      "text/plain": [
       "<qiskit.circuit.instructionset.InstructionSet at 0x20092750ca0>"
      ]
     },
     "execution_count": 37,
     "metadata": {},
     "output_type": "execute_result"
    }
   ],
   "source": [
    "lattice = SquareLattice(3,3)\n",
    "num_nodes = len(lattice.nodes)\n",
    "surfacecode = SurfaceCodeCycle(lattice)\n",
    "\n",
    "qc = surfacecode._circuit(5)\n",
    "qc.add_register(ClassicalRegister(num_nodes))\n",
    "# qc.z([0])\n",
    "qc.append(surfacecode._circuit(), range(num_nodes), range(5*num_nodes, 6* num_nodes))\n",
    "# qc.decompose().decompose().draw()"
   ]
  },
  {
   "cell_type": "code",
   "execution_count": 38,
   "metadata": {},
   "outputs": [],
   "source": [
    "aersim = AerSimulator()\n",
    "built = transpile(qc, aersim)\n",
    "job = aersim.run(built, shots = 1)\n",
    "result = job.result()"
   ]
  },
  {
   "cell_type": "code",
   "execution_count": 75,
   "metadata": {},
   "outputs": [],
   "source": [
    "measurements = list(result.get_counts().keys())\n",
    "\n",
    "assert len(measurements) == 1\n",
    "\n",
    "for i in measurements[0].split(\" \"):\n",
    "    assert i == measurements[0].split(\" \")[0]\n"
   ]
  },
  {
   "cell_type": "code",
   "execution_count": null,
   "metadata": {},
   "outputs": [],
   "source": []
  }
 ],
 "metadata": {
  "kernelspec": {
   "display_name": "Python 3 (ipykernel)",
   "language": "python",
   "name": "python3"
  },
  "language_info": {
   "codemirror_mode": {
    "name": "ipython",
    "version": 3
   },
   "file_extension": ".py",
   "mimetype": "text/x-python",
   "name": "python",
   "nbconvert_exporter": "python",
   "pygments_lexer": "ipython3",
   "version": "3.12.0"
  },
  "orig_nbformat": 4
 },
 "nbformat": 4,
 "nbformat_minor": 2
}
