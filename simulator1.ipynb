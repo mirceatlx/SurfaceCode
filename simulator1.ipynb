{
 "cells": [
  {
   "cell_type": "code",
   "execution_count": 12,
   "metadata": {},
   "outputs": [],
   "source": [
    "# imports\n",
    "\n",
    "from surfacecode.logical_qubit import LQubit\n",
    "from surfacecode.circuits import SquareLattice\n",
    "from surfacecode.lattice import *\n",
    "from surfacecode.simulators import *\n",
    "from surfacecode.surface import *\n",
    "from surfacecode.mwpm import ParityCheckMatrix, ErrorCorrection\n",
    "\n",
    "from qiskit_aer import AerSimulator\n",
    "from qiskit import transpile\n",
    "from qiskit_aer.noise import (NoiseModel, QuantumError, ReadoutError,\n",
    "    pauli_error, depolarizing_error, thermal_relaxation_error)\n",
    "from qiskit_ibm_provider import IBMProvider, least_busy\n",
    "\n",
    "import numpy as np\n",
    "import matplotlib.pyplot as plt\n",
    "from tqdm import tqdm\n"
   ]
  },
  {
   "cell_type": "code",
   "execution_count": 13,
   "metadata": {},
   "outputs": [],
   "source": [
    "WIDTH, HEIGHT = 3, 9\n",
    "l = (7, 19)\n",
    "\n",
    "lattice = SquareLattice(WIDTH, HEIGHT)\n",
    "qubit = LQubit(lattice, l[0], l[1], True)\n",
    "cycle = SurfaceCodeCycle(lattice)\n",
    "num_qubits = WIDTH * HEIGHT"
   ]
  },
  {
   "cell_type": "code",
   "execution_count": 14,
   "metadata": {},
   "outputs": [],
   "source": [
    "qc = ConstrainedQuantumCircuit(lattice, WIDTH * HEIGHT)\n",
    "qc.add_register(ClassicalRegister(num_qubits))\n",
    "qc = qc.compose(cycle._circuit(1), list(range(num_qubits)), list(range(num_qubits)))\n",
    "\n",
    "qc.add_register(ClassicalRegister(num_qubits + len(qubit.route(l[0],l[1])) // 2))\n",
    "qc = qc.compose(qubit.alt_initialize(cycle), list(range(num_qubits)), list(range(num_qubits, 2 * num_qubits + len(qubit.route(l[0],l[1])) // 2)))\n",
    "\n",
    "\n",
    "\n",
    "qc.add_register(ClassicalRegister(num_qubits))\n",
    "qc = qc.compose(cycle._circuit(1), list(range(num_qubits)), list(range(2 * num_qubits + len(qubit.route(l[0],l[1])) // 2, 3 * num_qubits + len(qubit.route(l[0],l[1])) // 2)))\n",
    "\n",
    "qc.add_register(ClassicalRegister(2))\n",
    "qc = qc.compose(qubit.alt_measure(), list(range(num_qubits)), list(range(3* num_qubits + len(qubit.route(l[0],l[1])) // 2, 3 * num_qubits + len(qubit.route(l[0],l[1])) // 2 + 2)))"
   ]
  },
  {
   "cell_type": "code",
   "execution_count": 15,
   "metadata": {},
   "outputs": [
    {
     "data": {
      "text/plain": [
       "<IBMBackend('ibm_brisbane')>"
      ]
     },
     "execution_count": 15,
     "metadata": {},
     "output_type": "execute_result"
    }
   ],
   "source": [
    "provider = IBMProvider(token='e521151100e3c7cafa35bc9467cced1b3ed68c5279e3b75e913f731410b55a444bc7f7053bedd0d97930cbec58783746cda23b32655944c5933140067480595c')\n",
    "backend = provider.get_backend('ibm_brisbane')\n",
    "#backend = least_busy(provider.backends(simulator=False, operational=True))\n",
    "backend"
   ]
  },
  {
   "cell_type": "code",
   "execution_count": 16,
   "metadata": {},
   "outputs": [],
   "source": [
    "built = transpile(qc, backend)"
   ]
  },
  {
   "cell_type": "code",
   "execution_count": 17,
   "metadata": {},
   "outputs": [
    {
     "data": {
      "text/plain": [
       "'cpvbbd51tcz0008mjcg0'"
      ]
     },
     "execution_count": 17,
     "metadata": {},
     "output_type": "execute_result"
    }
   ],
   "source": [
    "job = backend.run(built, shots=100)\n",
    "job.job_id()"
   ]
  },
  {
   "cell_type": "markdown",
   "metadata": {},
   "source": [
    "# Bit flip"
   ]
  },
  {
   "cell_type": "code",
   "execution_count": 7,
   "metadata": {},
   "outputs": [],
   "source": [
    "WIDTH, HEIGHT = 3, 9\n",
    "l = (7, 19)\n",
    "\n",
    "lattice = SquareLattice(WIDTH, HEIGHT)\n",
    "qubit = LQubit(lattice, l[0], l[1], True)\n",
    "cycle = SurfaceCodeCycle(lattice)\n",
    "num_qubits = WIDTH * HEIGHT"
   ]
  },
  {
   "cell_type": "code",
   "execution_count": 8,
   "metadata": {},
   "outputs": [],
   "source": [
    "qc = ConstrainedQuantumCircuit(lattice, WIDTH * HEIGHT)\n",
    "qc.add_register(ClassicalRegister(num_qubits))\n",
    "qc = qc.compose(cycle._circuit(1), list(range(num_qubits)), list(range(num_qubits)))\n",
    "\n",
    "qc.add_register(ClassicalRegister(num_qubits + len(qubit.route(l[0],l[1])) // 2))\n",
    "qc = qc.compose(qubit.alt_initialize(cycle), list(range(num_qubits)), list(range(num_qubits, 2 * num_qubits + len(qubit.route(l[0],l[1])) // 2)))\n",
    "\n",
    "qc.add_register(ClassicalRegister(num_qubits))\n",
    "qc = qc.compose(cycle._circuit(1), list(range(num_qubits)), list(range(2 * num_qubits + len(qubit.route(l[0],l[1])) // 2, 3 * num_qubits + len(qubit.route(l[0],l[1])) // 2)))\n",
    "\n",
    "qc = qc.compose(qubit.circle_gate())\n",
    "\n",
    "qc.add_register(ClassicalRegister(num_qubits))\n",
    "qc = qc.compose(cycle._circuit(1), list(range(num_qubits)), list(range(3 * num_qubits + len(qubit.route(l[0],l[1])) // 2, 4 * num_qubits + len(qubit.route(l[0],l[1])) // 2)))\n",
    "\n",
    "qc.add_register(ClassicalRegister(2))\n",
    "qc = qc.compose(qubit.alt_measure(), list(range(num_qubits)), list(range(4 * num_qubits + len(qubit.route(l[0],l[1])) // 2, 4 * num_qubits + len(qubit.route(l[0],l[1])) // 2 + 2)))"
   ]
  },
  {
   "cell_type": "code",
   "execution_count": 9,
   "metadata": {},
   "outputs": [
    {
     "data": {
      "text/plain": [
       "<IBMBackend('ibm_kyoto')>"
      ]
     },
     "execution_count": 9,
     "metadata": {},
     "output_type": "execute_result"
    }
   ],
   "source": [
    "backend = least_busy(provider.backends(simulator=False, operational=True))\n",
    "backend"
   ]
  },
  {
   "cell_type": "code",
   "execution_count": 10,
   "metadata": {},
   "outputs": [],
   "source": [
    "built = transpile(qc, backend)"
   ]
  },
  {
   "cell_type": "code",
   "execution_count": 11,
   "metadata": {},
   "outputs": [
    {
     "ename": "IBMBackendApiError",
     "evalue": "'Error submitting job: \\'409 Client Error: Conflict for url: https://api.quantum.ibm.com/runtime/jobs. {\"errors\":[{\"message\":\"You have reached the limit of 3 pending  jobs. Please wait for a job to complete or cancel one before submitting anything new.\",\"code\":3458,\"solution\":\"Wait until some previous jobs were finished. You can cancel pending jobs to run new jobs.\",\"more_info\":\"https://docs.quantum-computing.ibm.com/errors\"}]}\\''",
     "output_type": "error",
     "traceback": [
      "\u001b[0;31m---------------------------------------------------------------------------\u001b[0m",
      "\u001b[0;31mHTTPError\u001b[0m                                 Traceback (most recent call last)",
      "File \u001b[0;32m/opt/homebrew/Caskroom/miniforge/base/envs/surface/lib/python3.12/site-packages/qiskit_ibm_provider/api/session.py:264\u001b[0m, in \u001b[0;36mRetrySession.request\u001b[0;34m(self, method, url, bare, **kwargs)\u001b[0m\n\u001b[1;32m    263\u001b[0m     response \u001b[38;5;241m=\u001b[39m \u001b[38;5;28msuper\u001b[39m()\u001b[38;5;241m.\u001b[39mrequest(method, final_url, headers\u001b[38;5;241m=\u001b[39mheaders, \u001b[38;5;241m*\u001b[39m\u001b[38;5;241m*\u001b[39mkwargs)\n\u001b[0;32m--> 264\u001b[0m     \u001b[43mresponse\u001b[49m\u001b[38;5;241;43m.\u001b[39;49m\u001b[43mraise_for_status\u001b[49m\u001b[43m(\u001b[49m\u001b[43m)\u001b[49m\n\u001b[1;32m    265\u001b[0m \u001b[38;5;28;01mexcept\u001b[39;00m RequestException \u001b[38;5;28;01mas\u001b[39;00m ex:\n\u001b[1;32m    266\u001b[0m     \u001b[38;5;66;03m# Wrap the requests exceptions into a IBM Q custom one, for\u001b[39;00m\n\u001b[1;32m    267\u001b[0m     \u001b[38;5;66;03m# compatibility.\u001b[39;00m\n",
      "File \u001b[0;32m/opt/homebrew/Caskroom/miniforge/base/envs/surface/lib/python3.12/site-packages/requests/models.py:1021\u001b[0m, in \u001b[0;36mResponse.raise_for_status\u001b[0;34m(self)\u001b[0m\n\u001b[1;32m   1020\u001b[0m \u001b[38;5;28;01mif\u001b[39;00m http_error_msg:\n\u001b[0;32m-> 1021\u001b[0m     \u001b[38;5;28;01mraise\u001b[39;00m HTTPError(http_error_msg, response\u001b[38;5;241m=\u001b[39m\u001b[38;5;28mself\u001b[39m)\n",
      "\u001b[0;31mHTTPError\u001b[0m: 409 Client Error: Conflict for url: https://api.quantum.ibm.com/runtime/jobs",
      "\nThe above exception was the direct cause of the following exception:\n",
      "\u001b[0;31mRequestsApiError\u001b[0m                          Traceback (most recent call last)",
      "File \u001b[0;32m/opt/homebrew/Caskroom/miniforge/base/envs/surface/lib/python3.12/site-packages/qiskit_ibm_provider/ibm_backend.py:528\u001b[0m, in \u001b[0;36mIBMBackend._runtime_run\u001b[0;34m(self, program_id, inputs, backend_name, job_tags, image)\u001b[0m\n\u001b[1;32m    527\u001b[0m \u001b[38;5;28;01mtry\u001b[39;00m:\n\u001b[0;32m--> 528\u001b[0m     response \u001b[38;5;241m=\u001b[39m \u001b[38;5;28;43mself\u001b[39;49m\u001b[38;5;241;43m.\u001b[39;49m\u001b[43mprovider\u001b[49m\u001b[38;5;241;43m.\u001b[39;49m\u001b[43m_runtime_client\u001b[49m\u001b[38;5;241;43m.\u001b[39;49m\u001b[43mprogram_run\u001b[49m\u001b[43m(\u001b[49m\n\u001b[1;32m    529\u001b[0m \u001b[43m        \u001b[49m\u001b[43mprogram_id\u001b[49m\u001b[38;5;241;43m=\u001b[39;49m\u001b[43mprogram_id\u001b[49m\u001b[43m,\u001b[49m\n\u001b[1;32m    530\u001b[0m \u001b[43m        \u001b[49m\u001b[43mbackend_name\u001b[49m\u001b[38;5;241;43m=\u001b[39;49m\u001b[43mbackend_name\u001b[49m\u001b[43m,\u001b[49m\n\u001b[1;32m    531\u001b[0m \u001b[43m        \u001b[49m\u001b[43mparams\u001b[49m\u001b[38;5;241;43m=\u001b[39;49m\u001b[43minputs\u001b[49m\u001b[43m,\u001b[49m\n\u001b[1;32m    532\u001b[0m \u001b[43m        \u001b[49m\u001b[43mhgp\u001b[49m\u001b[38;5;241;43m=\u001b[39;49m\u001b[43mhgp_name\u001b[49m\u001b[43m,\u001b[49m\n\u001b[1;32m    533\u001b[0m \u001b[43m        \u001b[49m\u001b[43mjob_tags\u001b[49m\u001b[38;5;241;43m=\u001b[39;49m\u001b[43mjob_tags\u001b[49m\u001b[43m,\u001b[49m\n\u001b[1;32m    534\u001b[0m \u001b[43m        \u001b[49m\u001b[43msession_id\u001b[49m\u001b[38;5;241;43m=\u001b[39;49m\u001b[43msession_id\u001b[49m\u001b[43m,\u001b[49m\n\u001b[1;32m    535\u001b[0m \u001b[43m        \u001b[49m\u001b[43mstart_session\u001b[49m\u001b[38;5;241;43m=\u001b[39;49m\u001b[43mstart_session\u001b[49m\u001b[43m,\u001b[49m\n\u001b[1;32m    536\u001b[0m \u001b[43m        \u001b[49m\u001b[43msession_time\u001b[49m\u001b[38;5;241;43m=\u001b[39;49m\u001b[43msession_time\u001b[49m\u001b[43m,\u001b[49m\n\u001b[1;32m    537\u001b[0m \u001b[43m        \u001b[49m\u001b[43mimage\u001b[49m\u001b[38;5;241;43m=\u001b[39;49m\u001b[43mimage\u001b[49m\u001b[43m,\u001b[49m\n\u001b[1;32m    538\u001b[0m \u001b[43m    \u001b[49m\u001b[43m)\u001b[49m\n\u001b[1;32m    539\u001b[0m \u001b[38;5;28;01mexcept\u001b[39;00m RequestsApiError \u001b[38;5;28;01mas\u001b[39;00m ex:\n",
      "File \u001b[0;32m/opt/homebrew/Caskroom/miniforge/base/envs/surface/lib/python3.12/site-packages/qiskit_ibm_provider/api/clients/runtime.py:141\u001b[0m, in \u001b[0;36mRuntimeClient.program_run\u001b[0;34m(self, program_id, backend_name, params, image, hgp, log_level, session_id, job_tags, max_execution_time, session_time, start_session)\u001b[0m\n\u001b[1;32m    140\u001b[0m     hgp_dict \u001b[38;5;241m=\u001b[39m {\u001b[38;5;124m\"\u001b[39m\u001b[38;5;124mhub\u001b[39m\u001b[38;5;124m\"\u001b[39m: hub, \u001b[38;5;124m\"\u001b[39m\u001b[38;5;124mgroup\u001b[39m\u001b[38;5;124m\"\u001b[39m: group, \u001b[38;5;124m\"\u001b[39m\u001b[38;5;124mproject\u001b[39m\u001b[38;5;124m\"\u001b[39m: project}\n\u001b[0;32m--> 141\u001b[0m \u001b[38;5;28;01mreturn\u001b[39;00m \u001b[38;5;28;43mself\u001b[39;49m\u001b[38;5;241;43m.\u001b[39;49m\u001b[43m_api\u001b[49m\u001b[38;5;241;43m.\u001b[39;49m\u001b[43mprogram_run\u001b[49m\u001b[43m(\u001b[49m\n\u001b[1;32m    142\u001b[0m \u001b[43m    \u001b[49m\u001b[43mprogram_id\u001b[49m\u001b[38;5;241;43m=\u001b[39;49m\u001b[43mprogram_id\u001b[49m\u001b[43m,\u001b[49m\n\u001b[1;32m    143\u001b[0m \u001b[43m    \u001b[49m\u001b[43mbackend_name\u001b[49m\u001b[38;5;241;43m=\u001b[39;49m\u001b[43mbackend_name\u001b[49m\u001b[43m,\u001b[49m\n\u001b[1;32m    144\u001b[0m \u001b[43m    \u001b[49m\u001b[43mparams\u001b[49m\u001b[38;5;241;43m=\u001b[39;49m\u001b[43mparams\u001b[49m\u001b[43m,\u001b[49m\n\u001b[1;32m    145\u001b[0m \u001b[43m    \u001b[49m\u001b[43mimage\u001b[49m\u001b[38;5;241;43m=\u001b[39;49m\u001b[43mimage\u001b[49m\u001b[43m,\u001b[49m\n\u001b[1;32m    146\u001b[0m \u001b[43m    \u001b[49m\u001b[43mlog_level\u001b[49m\u001b[38;5;241;43m=\u001b[39;49m\u001b[43mlog_level\u001b[49m\u001b[43m,\u001b[49m\n\u001b[1;32m    147\u001b[0m \u001b[43m    \u001b[49m\u001b[43msession_id\u001b[49m\u001b[38;5;241;43m=\u001b[39;49m\u001b[43msession_id\u001b[49m\u001b[43m,\u001b[49m\n\u001b[1;32m    148\u001b[0m \u001b[43m    \u001b[49m\u001b[43mjob_tags\u001b[49m\u001b[38;5;241;43m=\u001b[39;49m\u001b[43mjob_tags\u001b[49m\u001b[43m,\u001b[49m\n\u001b[1;32m    149\u001b[0m \u001b[43m    \u001b[49m\u001b[43mmax_execution_time\u001b[49m\u001b[38;5;241;43m=\u001b[39;49m\u001b[43mmax_execution_time\u001b[49m\u001b[43m,\u001b[49m\n\u001b[1;32m    150\u001b[0m \u001b[43m    \u001b[49m\u001b[43mstart_session\u001b[49m\u001b[38;5;241;43m=\u001b[39;49m\u001b[43mstart_session\u001b[49m\u001b[43m,\u001b[49m\n\u001b[1;32m    151\u001b[0m \u001b[43m    \u001b[49m\u001b[43msession_time\u001b[49m\u001b[38;5;241;43m=\u001b[39;49m\u001b[43msession_time\u001b[49m\u001b[43m,\u001b[49m\n\u001b[1;32m    152\u001b[0m \u001b[43m    \u001b[49m\u001b[38;5;241;43m*\u001b[39;49m\u001b[38;5;241;43m*\u001b[39;49m\u001b[43mhgp_dict\u001b[49m\n\u001b[1;32m    153\u001b[0m \u001b[43m\u001b[49m\u001b[43m)\u001b[49m\n",
      "File \u001b[0;32m/opt/homebrew/Caskroom/miniforge/base/envs/surface/lib/python3.12/site-packages/qiskit_ibm_provider/api/rest/runtime.py:134\u001b[0m, in \u001b[0;36mRuntime.program_run\u001b[0;34m(self, program_id, backend_name, params, image, hub, group, project, log_level, session_id, job_tags, max_execution_time, session_time, start_session)\u001b[0m\n\u001b[1;32m    133\u001b[0m data \u001b[38;5;241m=\u001b[39m json\u001b[38;5;241m.\u001b[39mdumps(payload, \u001b[38;5;28mcls\u001b[39m\u001b[38;5;241m=\u001b[39mRuntimeEncoder)\n\u001b[0;32m--> 134\u001b[0m \u001b[38;5;28;01mreturn\u001b[39;00m \u001b[38;5;28;43mself\u001b[39;49m\u001b[38;5;241;43m.\u001b[39;49m\u001b[43msession\u001b[49m\u001b[38;5;241;43m.\u001b[39;49m\u001b[43mpost\u001b[49m\u001b[43m(\u001b[49m\u001b[43murl\u001b[49m\u001b[43m,\u001b[49m\u001b[43m \u001b[49m\u001b[43mdata\u001b[49m\u001b[38;5;241;43m=\u001b[39;49m\u001b[43mdata\u001b[49m\u001b[43m,\u001b[49m\u001b[43m \u001b[49m\u001b[43mtimeout\u001b[49m\u001b[38;5;241;43m=\u001b[39;49m\u001b[38;5;241;43m900\u001b[39;49m\u001b[43m)\u001b[49m\u001b[38;5;241m.\u001b[39mjson()\n",
      "File \u001b[0;32m/opt/homebrew/Caskroom/miniforge/base/envs/surface/lib/python3.12/site-packages/requests/sessions.py:637\u001b[0m, in \u001b[0;36mSession.post\u001b[0;34m(self, url, data, json, **kwargs)\u001b[0m\n\u001b[1;32m    627\u001b[0m \u001b[38;5;250m\u001b[39m\u001b[38;5;124mr\u001b[39m\u001b[38;5;124;03m\"\"\"Sends a POST request. Returns :class:`Response` object.\u001b[39;00m\n\u001b[1;32m    628\u001b[0m \n\u001b[1;32m    629\u001b[0m \u001b[38;5;124;03m:param url: URL for the new :class:`Request` object.\u001b[39;00m\n\u001b[0;32m   (...)\u001b[0m\n\u001b[1;32m    634\u001b[0m \u001b[38;5;124;03m:rtype: requests.Response\u001b[39;00m\n\u001b[1;32m    635\u001b[0m \u001b[38;5;124;03m\"\"\"\u001b[39;00m\n\u001b[0;32m--> 637\u001b[0m \u001b[38;5;28;01mreturn\u001b[39;00m \u001b[38;5;28;43mself\u001b[39;49m\u001b[38;5;241;43m.\u001b[39;49m\u001b[43mrequest\u001b[49m\u001b[43m(\u001b[49m\u001b[38;5;124;43m\"\u001b[39;49m\u001b[38;5;124;43mPOST\u001b[39;49m\u001b[38;5;124;43m\"\u001b[39;49m\u001b[43m,\u001b[49m\u001b[43m \u001b[49m\u001b[43murl\u001b[49m\u001b[43m,\u001b[49m\u001b[43m \u001b[49m\u001b[43mdata\u001b[49m\u001b[38;5;241;43m=\u001b[39;49m\u001b[43mdata\u001b[49m\u001b[43m,\u001b[49m\u001b[43m \u001b[49m\u001b[43mjson\u001b[49m\u001b[38;5;241;43m=\u001b[39;49m\u001b[43mjson\u001b[49m\u001b[43m,\u001b[49m\u001b[43m \u001b[49m\u001b[38;5;241;43m*\u001b[39;49m\u001b[38;5;241;43m*\u001b[39;49m\u001b[43mkwargs\u001b[49m\u001b[43m)\u001b[49m\n",
      "File \u001b[0;32m/opt/homebrew/Caskroom/miniforge/base/envs/surface/lib/python3.12/site-packages/qiskit_ibm_provider/api/session.py:285\u001b[0m, in \u001b[0;36mRetrySession.request\u001b[0;34m(self, method, url, bare, **kwargs)\u001b[0m\n\u001b[1;32m    283\u001b[0m             message \u001b[38;5;241m+\u001b[39m\u001b[38;5;241m=\u001b[39m \u001b[38;5;124mf\u001b[39m\u001b[38;5;124m\"\u001b[39m\u001b[38;5;124m. \u001b[39m\u001b[38;5;132;01m{\u001b[39;00mex\u001b[38;5;241m.\u001b[39mresponse\u001b[38;5;241m.\u001b[39mtext\u001b[38;5;132;01m}\u001b[39;00m\u001b[38;5;124m\"\u001b[39m\n\u001b[0;32m--> 285\u001b[0m     \u001b[38;5;28;01mraise\u001b[39;00m RequestsApiError(message, status_code) \u001b[38;5;28;01mfrom\u001b[39;00m \u001b[38;5;21;01mex\u001b[39;00m\n\u001b[1;32m    287\u001b[0m \u001b[38;5;28;01mreturn\u001b[39;00m response\n",
      "\u001b[0;31mRequestsApiError\u001b[0m: '409 Client Error: Conflict for url: https://api.quantum.ibm.com/runtime/jobs. {\"errors\":[{\"message\":\"You have reached the limit of 3 pending  jobs. Please wait for a job to complete or cancel one before submitting anything new.\",\"code\":3458,\"solution\":\"Wait until some previous jobs were finished. You can cancel pending jobs to run new jobs.\",\"more_info\":\"https://docs.quantum-computing.ibm.com/errors\"}]}'",
      "\nThe above exception was the direct cause of the following exception:\n",
      "\u001b[0;31mIBMBackendApiError\u001b[0m                        Traceback (most recent call last)",
      "Cell \u001b[0;32mIn[11], line 1\u001b[0m\n\u001b[0;32m----> 1\u001b[0m job \u001b[38;5;241m=\u001b[39m \u001b[43mbackend\u001b[49m\u001b[38;5;241;43m.\u001b[39;49m\u001b[43mrun\u001b[49m\u001b[43m(\u001b[49m\u001b[43mbuilt\u001b[49m\u001b[43m,\u001b[49m\u001b[43m \u001b[49m\u001b[43mshots\u001b[49m\u001b[38;5;241;43m=\u001b[39;49m\u001b[38;5;241;43m100\u001b[39;49m\u001b[43m)\u001b[49m\n\u001b[1;32m      2\u001b[0m job\u001b[38;5;241m.\u001b[39mjob_id()\n",
      "File \u001b[0;32m/opt/homebrew/Caskroom/miniforge/base/envs/surface/lib/python3.12/site-packages/qiskit_ibm_provider/ibm_backend.py:495\u001b[0m, in \u001b[0;36mIBMBackend.run\u001b[0;34m(self, circuits, dynamic, job_tags, init_circuit, init_num_resets, header, shots, memory, meas_level, meas_return, rep_delay, init_qubits, use_measure_esp, noise_model, seed_simulator, **run_config)\u001b[0m\n\u001b[1;32m    491\u001b[0m \u001b[38;5;28;01mif\u001b[39;00m \u001b[38;5;129;01mnot\u001b[39;00m program_id\u001b[38;5;241m.\u001b[39mstartswith(QASM3RUNNERPROGRAMID):\n\u001b[1;32m    492\u001b[0m     \u001b[38;5;66;03m# Transpiling in circuit-runner is deprecated.\u001b[39;00m\n\u001b[1;32m    493\u001b[0m     run_config_dict[\u001b[38;5;124m\"\u001b[39m\u001b[38;5;124mskip_transpilation\u001b[39m\u001b[38;5;124m\"\u001b[39m] \u001b[38;5;241m=\u001b[39m \u001b[38;5;28;01mTrue\u001b[39;00m\n\u001b[0;32m--> 495\u001b[0m \u001b[38;5;28;01mreturn\u001b[39;00m \u001b[38;5;28;43mself\u001b[39;49m\u001b[38;5;241;43m.\u001b[39;49m\u001b[43m_runtime_run\u001b[49m\u001b[43m(\u001b[49m\n\u001b[1;32m    496\u001b[0m \u001b[43m    \u001b[49m\u001b[43mprogram_id\u001b[49m\u001b[38;5;241;43m=\u001b[39;49m\u001b[43mprogram_id\u001b[49m\u001b[43m,\u001b[49m\n\u001b[1;32m    497\u001b[0m \u001b[43m    \u001b[49m\u001b[43minputs\u001b[49m\u001b[38;5;241;43m=\u001b[39;49m\u001b[43mrun_config_dict\u001b[49m\u001b[43m,\u001b[49m\n\u001b[1;32m    498\u001b[0m \u001b[43m    \u001b[49m\u001b[43mbackend_name\u001b[49m\u001b[38;5;241;43m=\u001b[39;49m\u001b[38;5;28;43mself\u001b[39;49m\u001b[38;5;241;43m.\u001b[39;49m\u001b[43mname\u001b[49m\u001b[43m,\u001b[49m\n\u001b[1;32m    499\u001b[0m \u001b[43m    \u001b[49m\u001b[43mjob_tags\u001b[49m\u001b[38;5;241;43m=\u001b[39;49m\u001b[43mjob_tags\u001b[49m\u001b[43m,\u001b[49m\n\u001b[1;32m    500\u001b[0m \u001b[43m    \u001b[49m\u001b[43mimage\u001b[49m\u001b[38;5;241;43m=\u001b[39;49m\u001b[43mimage\u001b[49m\u001b[43m,\u001b[49m\n\u001b[1;32m    501\u001b[0m \u001b[43m\u001b[49m\u001b[43m)\u001b[49m\n",
      "File \u001b[0;32m/opt/homebrew/Caskroom/miniforge/base/envs/surface/lib/python3.12/site-packages/qiskit_ibm_provider/ibm_backend.py:540\u001b[0m, in \u001b[0;36mIBMBackend._runtime_run\u001b[0;34m(self, program_id, inputs, backend_name, job_tags, image)\u001b[0m\n\u001b[1;32m    528\u001b[0m     response \u001b[38;5;241m=\u001b[39m \u001b[38;5;28mself\u001b[39m\u001b[38;5;241m.\u001b[39mprovider\u001b[38;5;241m.\u001b[39m_runtime_client\u001b[38;5;241m.\u001b[39mprogram_run(\n\u001b[1;32m    529\u001b[0m         program_id\u001b[38;5;241m=\u001b[39mprogram_id,\n\u001b[1;32m    530\u001b[0m         backend_name\u001b[38;5;241m=\u001b[39mbackend_name,\n\u001b[0;32m   (...)\u001b[0m\n\u001b[1;32m    537\u001b[0m         image\u001b[38;5;241m=\u001b[39mimage,\n\u001b[1;32m    538\u001b[0m     )\n\u001b[1;32m    539\u001b[0m \u001b[38;5;28;01mexcept\u001b[39;00m RequestsApiError \u001b[38;5;28;01mas\u001b[39;00m ex:\n\u001b[0;32m--> 540\u001b[0m     \u001b[38;5;28;01mraise\u001b[39;00m IBMBackendApiError(\u001b[38;5;124m\"\u001b[39m\u001b[38;5;124mError submitting job: \u001b[39m\u001b[38;5;132;01m{}\u001b[39;00m\u001b[38;5;124m\"\u001b[39m\u001b[38;5;241m.\u001b[39mformat(\u001b[38;5;28mstr\u001b[39m(ex))) \u001b[38;5;28;01mfrom\u001b[39;00m \u001b[38;5;21;01mex\u001b[39;00m\n\u001b[1;32m    541\u001b[0m session_id \u001b[38;5;241m=\u001b[39m response\u001b[38;5;241m.\u001b[39mget(\u001b[38;5;124m\"\u001b[39m\u001b[38;5;124msession_id\u001b[39m\u001b[38;5;124m\"\u001b[39m)\n\u001b[1;32m    542\u001b[0m \u001b[38;5;28;01mif\u001b[39;00m \u001b[38;5;28mself\u001b[39m\u001b[38;5;241m.\u001b[39m_session:\n",
      "\u001b[0;31mIBMBackendApiError\u001b[0m: 'Error submitting job: \\'409 Client Error: Conflict for url: https://api.quantum.ibm.com/runtime/jobs. {\"errors\":[{\"message\":\"You have reached the limit of 3 pending  jobs. Please wait for a job to complete or cancel one before submitting anything new.\",\"code\":3458,\"solution\":\"Wait until some previous jobs were finished. You can cancel pending jobs to run new jobs.\",\"more_info\":\"https://docs.quantum-computing.ibm.com/errors\"}]}\\''"
     ]
    }
   ],
   "source": [
    "job = backend.run(built, shots=100)\n",
    "job.job_id()"
   ]
  },
  {
   "cell_type": "code",
   "execution_count": null,
   "metadata": {},
   "outputs": [],
   "source": []
  }
 ],
 "metadata": {
  "kernelspec": {
   "display_name": "surface",
   "language": "python",
   "name": "python3"
  },
  "language_info": {
   "codemirror_mode": {
    "name": "ipython",
    "version": 3
   },
   "file_extension": ".py",
   "mimetype": "text/x-python",
   "name": "python",
   "nbconvert_exporter": "python",
   "pygments_lexer": "ipython3",
   "version": "3.12.1"
  }
 },
 "nbformat": 4,
 "nbformat_minor": 2
}
