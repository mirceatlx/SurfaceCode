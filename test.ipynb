{
 "cells": [
  {
   "cell_type": "code",
   "execution_count": 1,
   "metadata": {},
   "outputs": [],
   "source": [
    "from surfacecode.lattice import SquareLattice\n",
    "from surfacecode.mwpm import ParityCheckMatrix, ErrorCorrection\n",
    "import numpy as np"
   ]
  },
  {
   "cell_type": "code",
   "execution_count": 2,
   "metadata": {},
   "outputs": [],
   "source": [
    "WIDTH = 3\n",
    "HEIGHT = 11\n",
    "lattice = SquareLattice(WIDTH, HEIGHT)"
   ]
  },
  {
   "cell_type": "code",
   "execution_count": 3,
   "metadata": {},
   "outputs": [],
   "source": [
    "num_stabilizers = lattice.z_counter + lattice.x_counter\n",
    "parity = ParityCheckMatrix(num_stabilizers, len(lattice.nodes) - num_stabilizers)"
   ]
  },
  {
   "cell_type": "code",
   "execution_count": 4,
   "metadata": {},
   "outputs": [],
   "source": [
    "mm = parity._populate(lattice)"
   ]
  },
  {
   "cell_type": "code",
   "execution_count": 5,
   "metadata": {},
   "outputs": [],
   "source": [
    "correction = ErrorCorrection(parity)"
   ]
  },
  {
   "cell_type": "markdown",
   "metadata": {},
   "source": [
    "# Cycles"
   ]
  },
  {
   "cell_type": "code",
   "execution_count": 6,
   "metadata": {},
   "outputs": [],
   "source": [
    "shots = {'01 000001000101000001000001000100000 000001000101000001000001000100000 00000100010100010000010000010000011 000001000101000001000001000100000': 1,\n",
    " '00 000001000101000101010101000001000 000001000101000101010101000001000 00000100010100010100000000000100001 000001000101000101000101000001000': 1,\n",
    " '11 000101000001000100000001000101000 000101000001000100000001000101000 00010100000100010000010000010100001 000101000001000100000001000101000': 1,\n",
    " '11 000100000000000001000000000100000 000100000000000001000000000100000 00010000000000010000000000010000010 000100000000000001000000000100000': 1,\n",
    " '10 000001000101000000000000000101000 000001000101000000000000000101000 00000100010100000000000000010100000 000001000101000000000000000101000': 1,\n",
    " '10 000001000001000000010001000100000 000001000001000000010001000100000 00000100000100010100010000010000011 000001000001000000000001000100000': 1,\n",
    " '11 000001000001000101000000000100000 000001000001000101000000000100000 00000100000100000000000000010000010 000001000001000101000000000100000': 1,\n",
    " '11 000001000001000000000100000101000 000001000001000000000100000101000 00000100000100010100010000010100010 000001000001000000000100000101000': 1,\n",
    " '01 000101000100000001000000000101000 000101000100000001000000000101000 00010100010000010000010100010100011 000101000100000001000000000101000': 1,\n",
    " '10 000100000000000101010001000101000 000100000000000101010001000101000 00010000000000000000010000010100011 000100000000000101000001000101000': 1}\n",
    "\n",
    "\n",
    "\n",
    "def cycles(key: str, num_stabilizers: int, width: int, height: int):\n",
    "    cycles = key.split(\" \")[1:]\n",
    "    sep_cycles = []\n",
    "    for cycle in cycles:\n",
    "        cycle = cycle[:width * height]\n",
    "        j = 1\n",
    "        z_measures = []\n",
    "        x_measures = []\n",
    "        for i, measure in enumerate(cycle):\n",
    "            if i >= width * j:\n",
    "                j += 1\n",
    "            if i % 2 == 1:\n",
    "                if j % 2 == 1:\n",
    "                    z_measures.append(int(measure))\n",
    "                else:\n",
    "                    x_measures.append(int(measure))\n",
    "                    \n",
    "        sep_cycle = np.concatenate([np.array(z_measures), np.array(x_measures)])\n",
    "        sep_cycle = np.array(sep_cycle).reshape(1, -1)\n",
    "        sep_cycles.append(sep_cycle)\n",
    "\n",
    "    sep_cycles = np.concatenate(sep_cycles)\n",
    "    return sep_cycles\n"
   ]
  },
  {
   "cell_type": "code",
   "execution_count": 7,
   "metadata": {},
   "outputs": [],
   "source": [
    "a = cycles(list(shots.keys())[0], num_stabilizers, WIDTH, HEIGHT)"
   ]
  },
  {
   "cell_type": "code",
   "execution_count": 25,
   "metadata": {},
   "outputs": [
    {
     "data": {
      "text/plain": [
       "array([[0, 0, 0, 0, 0, 0, 0, 1, 1, 1, 0, 1, 0, 1, 1, 0],\n",
       "       [0, 0, 0, 0, 0, 0, 0, 1, 1, 1, 0, 1, 0, 1, 1, 0],\n",
       "       [0, 0, 0, 0, 0, 0, 0, 1, 1, 1, 1, 0, 1, 0, 1, 0],\n",
       "       [0, 0, 0, 0, 0, 0, 0, 1, 1, 1, 0, 1, 0, 1, 1, 0]])"
      ]
     },
     "execution_count": 25,
     "metadata": {},
     "output_type": "execute_result"
    }
   ],
   "source": [
    "a"
   ]
  },
  {
   "cell_type": "code",
   "execution_count": 11,
   "metadata": {},
   "outputs": [
    {
     "data": {
      "text/plain": [
       "10"
      ]
     },
     "execution_count": 11,
     "metadata": {},
     "output_type": "execute_result"
    }
   ],
   "source": [
    "lattice.x_counter"
   ]
  },
  {
   "cell_type": "code",
   "execution_count": 7,
   "metadata": {},
   "outputs": [
    {
     "data": {
      "text/plain": [
       "array([[0., 0., 0., 0., 0., 0., 0., 0., 0., 0., 0., 0., 0., 0., 0., 0.],\n",
       "       [0., 0., 0., 0., 0., 0., 0., 0., 0., 0., 0., 0., 0., 0., 0., 0.]])"
      ]
     },
     "execution_count": 7,
     "metadata": {},
     "output_type": "execute_result"
    }
   ],
   "source": [
    "a = np.zeros((2, 16))\n",
    "a"
   ]
  },
  {
   "cell_type": "code",
   "execution_count": 9,
   "metadata": {},
   "outputs": [
    {
     "data": {
      "text/plain": [
       "array([[0., 0., 0., 0., 0., 0., 0., 0., 0., 0., 0., 0., 0., 0., 0., 0.],\n",
       "       [1., 0., 0., 0., 0., 0., 0., 0., 0., 0., 1., 0., 0., 0., 0., 0.]])"
      ]
     },
     "execution_count": 9,
     "metadata": {},
     "output_type": "execute_result"
    }
   ],
   "source": [
    "a[1][0] = 1\n",
    "a[1][10] = 1\n",
    "a"
   ]
  },
  {
   "cell_type": "code",
   "execution_count": null,
   "metadata": {},
   "outputs": [],
   "source": [
    "D Z D\n",
    "X D X\n"
   ]
  },
  {
   "cell_type": "code",
   "execution_count": 29,
   "metadata": {},
   "outputs": [],
   "source": [
    "a = np.zeros((2, 16))\n"
   ]
  },
  {
   "cell_type": "code",
   "execution_count": 8,
   "metadata": {},
   "outputs": [],
   "source": [
    "b = correction.analyze(a)"
   ]
  },
  {
   "cell_type": "code",
   "execution_count": 9,
   "metadata": {},
   "outputs": [
    {
     "data": {
      "text/plain": [
       "array([0, 0, 0, 0, 0, 0, 0, 0, 0, 0, 0, 0, 0, 0, 0, 0, 0, 0, 0, 0, 0, 0,\n",
       "       0, 0, 0, 0, 0, 0, 0, 0, 0, 0, 0, 0], dtype=uint8)"
      ]
     },
     "execution_count": 9,
     "metadata": {},
     "output_type": "execute_result"
    }
   ],
   "source": [
    "b"
   ]
  },
  {
   "cell_type": "code",
   "execution_count": 10,
   "metadata": {},
   "outputs": [
    {
     "data": {
      "text/plain": [
       "(array([0, 0, 0, 0, 0, 0, 0, 0, 0, 0, 0, 0, 0, 0, 0, 0, 0], dtype=uint8),\n",
       " array([0, 0, 0, 0, 0, 0, 0, 0, 0, 0, 0, 0, 0, 0, 0, 0, 0], dtype=uint8))"
      ]
     },
     "execution_count": 10,
     "metadata": {},
     "output_type": "execute_result"
    }
   ],
   "source": [
    "b[:17], b[17:]"
   ]
  },
  {
   "cell_type": "code",
   "execution_count": 12,
   "metadata": {},
   "outputs": [
    {
     "data": {
      "text/plain": [
       "array([1., 1., 2., 1., 1., 2., 1., 1., 2., 1., 1., 2., 1., 1., 2., 1., 1.,\n",
       "       1., 1., 2., 2., 2., 2., 2., 2., 2., 2., 2., 2., 2., 2., 2., 1., 1.])"
      ]
     },
     "execution_count": 12,
     "metadata": {},
     "output_type": "execute_result"
    }
   ],
   "source": [
    "np.sum(parity.bpcm, axis=0)"
   ]
  },
  {
   "cell_type": "code",
   "execution_count": null,
   "metadata": {},
   "outputs": [],
   "source": [
    "def experimentX(w, h, l, type):\n",
    "    lattice = SquareLattice(3,11)\n",
    "    qubit = LQubit(lattice, l[0], l[1], type)\n",
    "    cycle = SurfaceCodeCycle(lattice)\n",
    "    num_qubits = w * h\n",
    "\n",
    "    qc = ConstrainedQuantumCircuit(lattice, w * h)\n",
    "\n",
    "    qc.add_register(ClassicalRegister(num_qubits))\n",
    "    qc = qc.compose(cycle._circuit(1), list(range(num_qubits)), list(range(num_qubits)))\n",
    "\n",
    "    qc.add_register(ClassicalRegister(num_qubits + len(qubit.route(l[0],l[1])) // 2))\n",
    "    qc = qc.compose(qubit.alt_initialize(cycle), list(range(num_qubits)), list(range(num_qubits, 2 * num_qubits + len(qubit.route(l[0],l[1])) // 2)))\n",
    "\n",
    "    qc.add_register(ClassicalRegister(num_qubits))\n",
    "    qc = qc.compose(cycle._circuit(1), list(range(num_qubits)), list(range(2 * num_qubits + len(qubit.route(l[0],l[1])) // 2, 3 * num_qubits + len(qubit.route(l[0],l[1])) // 2)))\n",
    "\n",
    "    qc = qc.compose(qubit.circle_gate())\n",
    "\n",
    "    qc.add_register(ClassicalRegister(num_qubits))\n",
    "    qc = qc.compose(cycle._circuit(1), list(range(num_qubits)), list(range(3 * num_qubits + len(qubit.route(l[0],l[1])) // 2, 4 * num_qubits + len(qubit.route(l[0],l[1])) // 2)))\n",
    "\n",
    "    qc.add_register(ClassicalRegister(2))\n",
    "    qc = qc.compose(qubit.alt_measure(), list(range(num_qubits)), list(range(4 * num_qubits + len(qubit.route(l[0],l[1])) // 2, 4 * num_qubits + len(qubit.route(l[0],l[1])) // 2 + 2)))\n",
    "    return qc"
   ]
  }
 ],
 "metadata": {
  "kernelspec": {
   "display_name": "surface",
   "language": "python",
   "name": "python3"
  },
  "language_info": {
   "codemirror_mode": {
    "name": "ipython",
    "version": 3
   },
   "file_extension": ".py",
   "mimetype": "text/x-python",
   "name": "python",
   "nbconvert_exporter": "python",
   "pygments_lexer": "ipython3",
   "version": "3.12.1"
  }
 },
 "nbformat": 4,
 "nbformat_minor": 2
}
