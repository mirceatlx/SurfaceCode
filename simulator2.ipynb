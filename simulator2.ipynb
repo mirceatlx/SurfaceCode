{
 "cells": [
  {
   "cell_type": "code",
   "execution_count": 229,
   "metadata": {},
   "outputs": [],
   "source": [
    "# imports\n",
    "\n",
    "from surfacecode.logical_qubit import LQubit\n",
    "from surfacecode.circuits import SquareLattice\n",
    "from surfacecode.lattice import *\n",
    "from surfacecode.simulators import *\n",
    "from surfacecode.surface import *\n",
    "from surfacecode.mwpm import ParityCheckMatrix, ErrorCorrection\n",
    "\n",
    "from qiskit_aer import AerSimulator\n",
    "from qiskit import transpile\n",
    "from qiskit_aer.noise import (NoiseModel, QuantumError, ReadoutError,\n",
    "    pauli_error, depolarizing_error, thermal_relaxation_error, amplitude_damping_error, phase_damping_error)\n",
    "from qiskit_ibm_provider import IBMProvider, least_busy\n",
    "\n",
    "import numpy as np\n",
    "import matplotlib.pyplot as plt\n",
    "from tqdm import tqdm\n"
   ]
  },
  {
   "cell_type": "code",
   "execution_count": 186,
   "metadata": {},
   "outputs": [],
   "source": [
    "WIDTH, HEIGHT = 3, 13\n",
    "l = (7, 31)\n",
    "\n",
    "lattice = SquareLattice(WIDTH, HEIGHT)\n",
    "qubit = LQubit(lattice, l[0], l[1], True)\n",
    "cycle = SurfaceCodeCycle(lattice)\n",
    "num_qubits = WIDTH * HEIGHT"
   ]
  },
  {
   "cell_type": "code",
   "execution_count": 224,
   "metadata": {},
   "outputs": [],
   "source": [
    "qc = ConstrainedQuantumCircuit(lattice, WIDTH * HEIGHT)\n",
    "qc.add_register(ClassicalRegister(num_qubits))\n",
    "qc = qc.compose(cycle._circuit(1), list(range(num_qubits)), list(range(num_qubits)))\n",
    "\n",
    "qc.add_register(ClassicalRegister(num_qubits + len(qubit.route(l[0],l[1])) // 2))\n",
    "qc = qc.compose(qubit.alt_initialize(cycle), list(range(num_qubits)), list(range(num_qubits, 2 * num_qubits + len(qubit.route(l[0],l[1])) // 2)))\n",
    "\n",
    "qc.add_register(ClassicalRegister(num_qubits))\n",
    "qc = qc.compose(cycle._circuit(1), list(range(num_qubits)), list(range(2 * num_qubits + len(qubit.route(l[0],l[1])) // 2, 3 * num_qubits + len(qubit.route(l[0],l[1])) // 2)))\n",
    "\n",
    "qc = qc.compose(qubit.line_gate())\n",
    "\n",
    "qc.add_register(ClassicalRegister(num_qubits))\n",
    "qc = qc.compose(cycle._circuit(1), list(range(num_qubits)), list(range(3 * num_qubits + len(qubit.route(l[0],l[1])) // 2, 4 * num_qubits + len(qubit.route(l[0],l[1])) // 2)))\n",
    "\n",
    "#qc.add_register(ClassicalRegister(num_qubits))\n",
    "#qc = qc.compose(cycle._circuit(1), list(range(num_qubits)), list(range(4 * num_qubits + len(qubit.route(l[0],l[1])) // 2, 5 * num_qubits + len(qubit.route(l[0],l[1])) // 2)))\n",
    "\n",
    "qc.add_register(ClassicalRegister(4))\n",
    "qc = qc.compose(qubit.alt_measure(), list(range(num_qubits)), list(range(4 * num_qubits + len(qubit.route(l[0],l[1])) // 2, 4 * num_qubits + len(qubit.route(l[0],l[1])) // 2 + 4)))"
   ]
  },
  {
   "cell_type": "code",
   "execution_count": 206,
   "metadata": {},
   "outputs": [],
   "source": [
    "qc = ConstrainedQuantumCircuit(lattice, WIDTH * HEIGHT)\n",
    "qc.add_register(ClassicalRegister(num_qubits))\n",
    "qc = qc.compose(cycle._circuit(1), list(range(num_qubits)), list(range(num_qubits)))\n",
    "\n",
    "qc.add_register(ClassicalRegister(num_qubits + len(qubit.route(l[0],l[1])) // 2))\n",
    "qc = qc.compose(qubit.alt_initialize(cycle), list(range(num_qubits)), list(range(num_qubits, 2 * num_qubits + len(qubit.route(l[0],l[1])) // 2)))\n",
    "\n",
    "qc.add_register(ClassicalRegister(num_qubits))\n",
    "qc = qc.compose(cycle._circuit(1), list(range(num_qubits)), list(range(2 * num_qubits + len(qubit.route(l[0],l[1])) // 2, 3 * num_qubits + len(qubit.route(l[0],l[1])) // 2)))\n",
    "\n",
    "qc = qc.compose(qubit.circle_gate())\n",
    "\n",
    "qc.add_register(ClassicalRegister(num_qubits))\n",
    "qc = qc.compose(cycle._circuit(1), list(range(num_qubits)), list(range(3 * num_qubits + len(qubit.route(l[0],l[1])) // 2, 4 * num_qubits + len(qubit.route(l[0],l[1])) // 2)))\n",
    "\n",
    "qc.add_register(ClassicalRegister(4))\n",
    "qc = qc.compose(qubit.alt_measure(), list(range(num_qubits)), list(range(4 * num_qubits + len(qubit.route(l[0],l[1])) // 2, 4 * num_qubits + len(qubit.route(l[0],l[1])) // 2 + 4)))"
   ]
  },
  {
   "cell_type": "code",
   "execution_count": 231,
   "metadata": {},
   "outputs": [
    {
     "ename": "TranspilerError",
     "evalue": "'Number of qubits (39) in circuit-3381 is greater than maximum (29) in the coupling_map'",
     "output_type": "error",
     "traceback": [
      "\u001b[0;31m---------------------------------------------------------------------------\u001b[0m",
      "\u001b[0;31mTranspilerError\u001b[0m                           Traceback (most recent call last)",
      "Cell \u001b[0;32mIn[231], line 8\u001b[0m\n\u001b[1;32m      5\u001b[0m \u001b[38;5;66;03m#noise_model.add_all_qubit_quantum_error(error_amplitude, ['x', 'z', 'h'])\u001b[39;00m\n\u001b[1;32m      7\u001b[0m aersim \u001b[38;5;241m=\u001b[39m AerSimulator(method\u001b[38;5;241m=\u001b[39m\u001b[38;5;124m\"\u001b[39m\u001b[38;5;124mstatevector\u001b[39m\u001b[38;5;124m\"\u001b[39m, noise_model\u001b[38;5;241m=\u001b[39mnoise_model)\n\u001b[0;32m----> 8\u001b[0m built \u001b[38;5;241m=\u001b[39m \u001b[43mtranspile\u001b[49m\u001b[43m(\u001b[49m\u001b[43mqc\u001b[49m\u001b[43m,\u001b[49m\u001b[43m \u001b[49m\u001b[43maersim\u001b[49m\u001b[43m)\u001b[49m\n\u001b[1;32m      9\u001b[0m job \u001b[38;5;241m=\u001b[39m aersim\u001b[38;5;241m.\u001b[39mrun(built, shots\u001b[38;5;241m=\u001b[39m\u001b[38;5;241m1000\u001b[39m)\n\u001b[1;32m     10\u001b[0m result \u001b[38;5;241m=\u001b[39m job\u001b[38;5;241m.\u001b[39mresult()\n",
      "File \u001b[0;32m/opt/homebrew/Caskroom/miniforge/base/envs/surface/lib/python3.12/site-packages/qiskit/compiler/transpiler.py:335\u001b[0m, in \u001b[0;36mtranspile\u001b[0;34m(circuits, backend, basis_gates, inst_map, coupling_map, backend_properties, initial_layout, layout_method, routing_method, translation_method, scheduling_method, instruction_durations, dt, approximation_degree, timing_constraints, seed_transpiler, optimization_level, callback, output_name, unitary_synthesis_method, unitary_synthesis_plugin_config, target, hls_config, init_method, optimization_method, ignore_backend_supplied_default_methods)\u001b[0m\n\u001b[1;32m    332\u001b[0m output_name \u001b[38;5;241m=\u001b[39m _parse_output_name(output_name, circuits)\n\u001b[1;32m    333\u001b[0m inst_map \u001b[38;5;241m=\u001b[39m _parse_inst_map(inst_map, backend)\n\u001b[0;32m--> 335\u001b[0m \u001b[43m_check_circuits_coupling_map\u001b[49m\u001b[43m(\u001b[49m\u001b[43mcircuits\u001b[49m\u001b[43m,\u001b[49m\u001b[43m \u001b[49m\u001b[43mcoupling_map\u001b[49m\u001b[43m,\u001b[49m\u001b[43m \u001b[49m\u001b[43mbackend\u001b[49m\u001b[43m)\u001b[49m\n\u001b[1;32m    337\u001b[0m timing_constraints \u001b[38;5;241m=\u001b[39m _parse_timing_constraints(backend, timing_constraints)\n\u001b[1;32m    339\u001b[0m \u001b[38;5;28;01mif\u001b[39;00m _given_inst_map \u001b[38;5;129;01mand\u001b[39;00m inst_map\u001b[38;5;241m.\u001b[39mhas_custom_gate() \u001b[38;5;129;01mand\u001b[39;00m target \u001b[38;5;129;01mis\u001b[39;00m \u001b[38;5;129;01mnot\u001b[39;00m \u001b[38;5;28;01mNone\u001b[39;00m:\n\u001b[1;32m    340\u001b[0m     \u001b[38;5;66;03m# Do not mutate backend target\u001b[39;00m\n",
      "File \u001b[0;32m/opt/homebrew/Caskroom/miniforge/base/envs/surface/lib/python3.12/site-packages/qiskit/compiler/transpiler.py:458\u001b[0m, in \u001b[0;36m_check_circuits_coupling_map\u001b[0;34m(circuits, cmap, backend)\u001b[0m\n\u001b[1;32m    456\u001b[0m num_qubits \u001b[38;5;241m=\u001b[39m \u001b[38;5;28mlen\u001b[39m(circuit\u001b[38;5;241m.\u001b[39mqubits)\n\u001b[1;32m    457\u001b[0m \u001b[38;5;28;01mif\u001b[39;00m max_qubits \u001b[38;5;129;01mis\u001b[39;00m \u001b[38;5;129;01mnot\u001b[39;00m \u001b[38;5;28;01mNone\u001b[39;00m \u001b[38;5;129;01mand\u001b[39;00m (num_qubits \u001b[38;5;241m>\u001b[39m max_qubits):\n\u001b[0;32m--> 458\u001b[0m     \u001b[38;5;28;01mraise\u001b[39;00m TranspilerError(\n\u001b[1;32m    459\u001b[0m         \u001b[38;5;124mf\u001b[39m\u001b[38;5;124m\"\u001b[39m\u001b[38;5;124mNumber of qubits (\u001b[39m\u001b[38;5;132;01m{\u001b[39;00mnum_qubits\u001b[38;5;132;01m}\u001b[39;00m\u001b[38;5;124m) in \u001b[39m\u001b[38;5;132;01m{\u001b[39;00mcircuit\u001b[38;5;241m.\u001b[39mname\u001b[38;5;132;01m}\u001b[39;00m\u001b[38;5;124m \u001b[39m\u001b[38;5;124m\"\u001b[39m\n\u001b[1;32m    460\u001b[0m         \u001b[38;5;124mf\u001b[39m\u001b[38;5;124m\"\u001b[39m\u001b[38;5;124mis greater than maximum (\u001b[39m\u001b[38;5;132;01m{\u001b[39;00mmax_qubits\u001b[38;5;132;01m}\u001b[39;00m\u001b[38;5;124m) in the coupling_map\u001b[39m\u001b[38;5;124m\"\u001b[39m\n\u001b[1;32m    461\u001b[0m     )\n",
      "\u001b[0;31mTranspilerError\u001b[0m: 'Number of qubits (39) in circuit-3381 is greater than maximum (29) in the coupling_map'"
     ]
    }
   ],
   "source": [
    "noise_model = NoiseModel()\n",
    "error_amplitude = amplitude_damping_error(0.1)\n",
    "error_phase = phase_damping_error(0.1)\n",
    "noise_model.add_all_qubit_quantum_error(error_amplitude, ['x', 'z', 'h'])\n",
    "#noise_model.add_all_qubit_quantum_error(error_amplitude, ['x', 'z', 'h'])\n",
    "\n",
    "aersim = AerSimulator(method=\"statevector\", noise_model=noise_model)\n",
    "built = transpile(qc, aersim)\n",
    "job = aersim.run(built, shots=1000)\n",
    "result = job.result()"
   ]
  },
  {
   "cell_type": "code",
   "execution_count": 56,
   "metadata": {},
   "outputs": [],
   "source": [
    "def parse_results(shot: str):\n",
    "    a, b = int(shot[0]), int(shot[1])\n",
    "    c, d = int(shot[114]), int(shot[115])\n",
    "    x1 = a ^ b\n",
    "    x2 = c ^ d\n",
    "\n",
    "    return x1 ^ x2"
   ]
  },
  {
   "cell_type": "code",
   "execution_count": 57,
   "metadata": {},
   "outputs": [],
   "source": [
    "results = 0\n",
    "for shot in list(result.get_counts().keys()):\n",
    "    results += parse_results(shot)\n",
    "\n"
   ]
  },
  {
   "cell_type": "code",
   "execution_count": 58,
   "metadata": {},
   "outputs": [
    {
     "data": {
      "text/plain": [
       "0.035"
      ]
     },
     "execution_count": 58,
     "metadata": {},
     "output_type": "execute_result"
    }
   ],
   "source": [
    "results / 1000"
   ]
  },
  {
   "cell_type": "code",
   "execution_count": 21,
   "metadata": {},
   "outputs": [
    {
     "data": {
      "text/plain": [
       "116"
      ]
     },
     "execution_count": 21,
     "metadata": {},
     "output_type": "execute_result"
    }
   ],
   "source": [
    "len(\"00 000101000100010101000100000 000101000100010101000100000 000001000100010101000100000 00010100000100000000010000011\")"
   ]
  },
  {
   "cell_type": "markdown",
   "metadata": {},
   "source": [
    "# Error correction"
   ]
  },
  {
   "cell_type": "code",
   "execution_count": 135,
   "metadata": {},
   "outputs": [],
   "source": [
    "noise_model = NoiseModel()\n",
    "error = depolarizing_error(0.6, 1)\n",
    "noise_model.add_all_qubit_quantum_error(error, ['x', 'z', 'h'])\n",
    "\n",
    "aersim = AerSimulator(method=\"stabilizer\", noise_model=noise_model)\n",
    "built = transpile(qc, aersim)\n",
    "job = aersim.run(built, shots=100000)\n",
    "result = job.result()"
   ]
  },
  {
   "cell_type": "code",
   "execution_count": 136,
   "metadata": {},
   "outputs": [],
   "source": [
    "def cycles(key: str, num_stabilizers: int, width: int, height: int):\n",
    "    cycles = key.split(\" \")[1:]\n",
    "    sep_cycles = []\n",
    "    for cycle in cycles:\n",
    "        cycle = cycle[:width * height]\n",
    "        j = 1\n",
    "        z_measures = []\n",
    "        x_measures = []\n",
    "        for i, measure in enumerate(cycle):\n",
    "            if i >= width * j:\n",
    "                j += 1\n",
    "            if i % 2 == 1:\n",
    "                if j % 2 == 1:\n",
    "                    z_measures.append(int(measure))\n",
    "                else:\n",
    "                    x_measures.append(int(measure))\n",
    "                    \n",
    "        sep_cycle = np.concatenate([np.array(z_measures), np.array(x_measures)])\n",
    "        sep_cycle = np.array(sep_cycle).reshape(1, -1)\n",
    "        sep_cycles.append(sep_cycle)\n",
    "\n",
    "    sep_cycles = np.concatenate(sep_cycles)\n",
    "    return sep_cycles"
   ]
  },
  {
   "cell_type": "code",
   "execution_count": 201,
   "metadata": {},
   "outputs": [
    {
     "name": "stderr",
     "output_type": "stream",
     "text": [
      " 14%|█▍        | 7/50 [00:10<01:04,  1.51s/it]\n"
     ]
    },
    {
     "ename": "KeyboardInterrupt",
     "evalue": "",
     "output_type": "error",
     "traceback": [
      "\u001b[0;31m---------------------------------------------------------------------------\u001b[0m",
      "\u001b[0;31mKeyboardInterrupt\u001b[0m                         Traceback (most recent call last)",
      "Cell \u001b[0;32mIn[201], line 12\u001b[0m\n\u001b[1;32m     10\u001b[0m built \u001b[38;5;241m=\u001b[39m transpile(qc, aersim)\n\u001b[1;32m     11\u001b[0m job \u001b[38;5;241m=\u001b[39m aersim\u001b[38;5;241m.\u001b[39mrun(built, shots \u001b[38;5;241m=\u001b[39m \u001b[38;5;241m3000\u001b[39m)\n\u001b[0;32m---> 12\u001b[0m result \u001b[38;5;241m=\u001b[39m \u001b[43mjob\u001b[49m\u001b[38;5;241;43m.\u001b[39;49m\u001b[43mresult\u001b[49m\u001b[43m(\u001b[49m\u001b[43m)\u001b[49m\n\u001b[1;32m     13\u001b[0m shots \u001b[38;5;241m=\u001b[39m result\u001b[38;5;241m.\u001b[39mget_counts()\n\u001b[1;32m     16\u001b[0m fn, fp, tn, tp \u001b[38;5;241m=\u001b[39m \u001b[38;5;241m0\u001b[39m, \u001b[38;5;241m0\u001b[39m, \u001b[38;5;241m0\u001b[39m, \u001b[38;5;241m0\u001b[39m\n",
      "File \u001b[0;32m/opt/homebrew/Caskroom/miniforge/base/envs/surface/lib/python3.12/site-packages/qiskit_aer/jobs/utils.py:42\u001b[0m, in \u001b[0;36mrequires_submit.<locals>._wrapper\u001b[0;34m(self, *args, **kwargs)\u001b[0m\n\u001b[1;32m     40\u001b[0m \u001b[38;5;28;01mif\u001b[39;00m \u001b[38;5;28mself\u001b[39m\u001b[38;5;241m.\u001b[39m_future \u001b[38;5;129;01mis\u001b[39;00m \u001b[38;5;28;01mNone\u001b[39;00m:\n\u001b[1;32m     41\u001b[0m     \u001b[38;5;28;01mraise\u001b[39;00m JobError(\u001b[38;5;124m\"\u001b[39m\u001b[38;5;124mJob not submitted yet!. You have to .submit() first!\u001b[39m\u001b[38;5;124m\"\u001b[39m)\n\u001b[0;32m---> 42\u001b[0m \u001b[38;5;28;01mreturn\u001b[39;00m \u001b[43mfunc\u001b[49m\u001b[43m(\u001b[49m\u001b[38;5;28;43mself\u001b[39;49m\u001b[43m,\u001b[49m\u001b[43m \u001b[49m\u001b[38;5;241;43m*\u001b[39;49m\u001b[43margs\u001b[49m\u001b[43m,\u001b[49m\u001b[43m \u001b[49m\u001b[38;5;241;43m*\u001b[39;49m\u001b[38;5;241;43m*\u001b[39;49m\u001b[43mkwargs\u001b[49m\u001b[43m)\u001b[49m\n",
      "File \u001b[0;32m/opt/homebrew/Caskroom/miniforge/base/envs/surface/lib/python3.12/site-packages/qiskit_aer/jobs/aerjob.py:114\u001b[0m, in \u001b[0;36mAerJob.result\u001b[0;34m(self, timeout)\u001b[0m\n\u001b[1;32m     96\u001b[0m \u001b[38;5;129m@requires_submit\u001b[39m\n\u001b[1;32m     97\u001b[0m \u001b[38;5;28;01mdef\u001b[39;00m \u001b[38;5;21mresult\u001b[39m(\u001b[38;5;28mself\u001b[39m, timeout\u001b[38;5;241m=\u001b[39m\u001b[38;5;28;01mNone\u001b[39;00m):\n\u001b[1;32m     98\u001b[0m     \u001b[38;5;66;03m# pylint: disable=arguments-differ\u001b[39;00m\n\u001b[1;32m     99\u001b[0m \u001b[38;5;250m    \u001b[39m\u001b[38;5;124;03m\"\"\"Get job result. The behavior is the same as the underlying\u001b[39;00m\n\u001b[1;32m    100\u001b[0m \u001b[38;5;124;03m    concurrent Future objects,\u001b[39;00m\n\u001b[1;32m    101\u001b[0m \n\u001b[0;32m   (...)\u001b[0m\n\u001b[1;32m    112\u001b[0m \u001b[38;5;124;03m        concurrent.futures.CancelledError: if job cancelled before completed.\u001b[39;00m\n\u001b[1;32m    113\u001b[0m \u001b[38;5;124;03m    \"\"\"\u001b[39;00m\n\u001b[0;32m--> 114\u001b[0m     \u001b[38;5;28;01mreturn\u001b[39;00m \u001b[38;5;28;43mself\u001b[39;49m\u001b[38;5;241;43m.\u001b[39;49m\u001b[43m_future\u001b[49m\u001b[38;5;241;43m.\u001b[39;49m\u001b[43mresult\u001b[49m\u001b[43m(\u001b[49m\u001b[43mtimeout\u001b[49m\u001b[38;5;241;43m=\u001b[39;49m\u001b[43mtimeout\u001b[49m\u001b[43m)\u001b[49m\n",
      "File \u001b[0;32m/opt/homebrew/Caskroom/miniforge/base/envs/surface/lib/python3.12/concurrent/futures/_base.py:451\u001b[0m, in \u001b[0;36mFuture.result\u001b[0;34m(self, timeout)\u001b[0m\n\u001b[1;32m    448\u001b[0m \u001b[38;5;28;01melif\u001b[39;00m \u001b[38;5;28mself\u001b[39m\u001b[38;5;241m.\u001b[39m_state \u001b[38;5;241m==\u001b[39m FINISHED:\n\u001b[1;32m    449\u001b[0m     \u001b[38;5;28;01mreturn\u001b[39;00m \u001b[38;5;28mself\u001b[39m\u001b[38;5;241m.\u001b[39m__get_result()\n\u001b[0;32m--> 451\u001b[0m \u001b[38;5;28;43mself\u001b[39;49m\u001b[38;5;241;43m.\u001b[39;49m\u001b[43m_condition\u001b[49m\u001b[38;5;241;43m.\u001b[39;49m\u001b[43mwait\u001b[49m\u001b[43m(\u001b[49m\u001b[43mtimeout\u001b[49m\u001b[43m)\u001b[49m\n\u001b[1;32m    453\u001b[0m \u001b[38;5;28;01mif\u001b[39;00m \u001b[38;5;28mself\u001b[39m\u001b[38;5;241m.\u001b[39m_state \u001b[38;5;129;01min\u001b[39;00m [CANCELLED, CANCELLED_AND_NOTIFIED]:\n\u001b[1;32m    454\u001b[0m     \u001b[38;5;28;01mraise\u001b[39;00m CancelledError()\n",
      "File \u001b[0;32m/opt/homebrew/Caskroom/miniforge/base/envs/surface/lib/python3.12/threading.py:355\u001b[0m, in \u001b[0;36mCondition.wait\u001b[0;34m(self, timeout)\u001b[0m\n\u001b[1;32m    353\u001b[0m \u001b[38;5;28;01mtry\u001b[39;00m:    \u001b[38;5;66;03m# restore state no matter what (e.g., KeyboardInterrupt)\u001b[39;00m\n\u001b[1;32m    354\u001b[0m     \u001b[38;5;28;01mif\u001b[39;00m timeout \u001b[38;5;129;01mis\u001b[39;00m \u001b[38;5;28;01mNone\u001b[39;00m:\n\u001b[0;32m--> 355\u001b[0m         \u001b[43mwaiter\u001b[49m\u001b[38;5;241;43m.\u001b[39;49m\u001b[43macquire\u001b[49m\u001b[43m(\u001b[49m\u001b[43m)\u001b[49m\n\u001b[1;32m    356\u001b[0m         gotit \u001b[38;5;241m=\u001b[39m \u001b[38;5;28;01mTrue\u001b[39;00m\n\u001b[1;32m    357\u001b[0m     \u001b[38;5;28;01melse\u001b[39;00m:\n",
      "\u001b[0;31mKeyboardInterrupt\u001b[0m: "
     ]
    }
   ],
   "source": [
    "noise_ps = np.linspace(0, 0.2, 50)\n",
    "fns, fps, tns, tps = [], [], [], []\n",
    "\n",
    "for noise_p in tqdm(noise_ps):\n",
    "    noise_model = NoiseModel()\n",
    "    error = depolarizing_error(noise_p, 1)\n",
    "    noise_model.add_all_qubit_quantum_error(error, ['x', 'z', 'h'])\n",
    "\n",
    "    aersim = AerSimulator(method=\"stabilizer\", noise_model=noise_model)\n",
    "    built = transpile(qc, aersim)\n",
    "    job = aersim.run(built, shots = 3000)\n",
    "    result = job.result()\n",
    "    shots = result.get_counts()\n",
    "\n",
    "\n",
    "    fn, fp, tn, tp = 0, 0, 0, 0\n",
    "    counts  = result.get_counts()\n",
    "    for shot in list(result.get_counts().keys()):\n",
    "        count = counts[shot]\n",
    "        a = cycles(shot, lattice.z_counter + lattice.x_counter, WIDTH, HEIGHT)\n",
    "        parity = ParityCheckMatrix(lattice.z_counter + lattice.x_counter, len(lattice.nodes) - lattice.z_counter - lattice.x_counter)\n",
    "        mm = parity._populate(lattice)\n",
    "        correction = ErrorCorrection(parity)\n",
    "        b = correction.analyze(np.array(list(reversed(a))[2:]))\n",
    "        if b[5] ^ b[8] ^ b[11] ^ b[14]:\n",
    "            a1, a2, a3, a4 = int(shot[0]), int(shot[1]), int(shot[2]), int(shot[3])\n",
    "            x1 = a1 ^ a2 ^ a3 ^ a4\n",
    "            b1, b2, b3, b4 = int(shot[167]), int(shot[166]), int(shot[165]), int(shot[164])\n",
    "            x2 = b1 ^ b2 ^ b3 ^ b4\n",
    "            x3 = x1 ^ x2\n",
    "            if x3:\n",
    "                fn += count\n",
    "            else:\n",
    "                fp += count\n",
    "        else:\n",
    "            a1, a2, a3, a4 = int(shot[0]), int(shot[1]), int(shot[2]), int(shot[3])\n",
    "            x1 = a1 ^ a2 ^ a3 ^ a4\n",
    "            b1, b2, b3, b4 = int(shot[167]), int(shot[166]), int(shot[165]), int(shot[164])\n",
    "            x2 = b1 ^ b2 ^ b3 ^ b4\n",
    "            x3 = x1 ^ x2\n",
    "            if x3:\n",
    "                tn += count\n",
    "            else:\n",
    "                tp += count\n",
    "    \n",
    "    fns.append(fn)\n",
    "    fps.append(fp)\n",
    "    tns.append(tn)\n",
    "    tps.append(tp)"
   ]
  },
  {
   "cell_type": "code",
   "execution_count": 225,
   "metadata": {},
   "outputs": [
    {
     "name": "stderr",
     "output_type": "stream",
     "text": [
      "  0%|          | 0/50 [00:00<?, ?it/s]"
     ]
    },
    {
     "name": "stderr",
     "output_type": "stream",
     "text": [
      "100%|██████████| 50/50 [01:55<00:00,  2.30s/it]\n"
     ]
    }
   ],
   "source": [
    "noise_ps = np.linspace(0, 0.2, 50)\n",
    "fns, fps, tns, tps = [], [], [], []\n",
    "\n",
    "for noise_p in tqdm(noise_ps):\n",
    "    noise_model = NoiseModel()\n",
    "    error = depolarizing_error(noise_p, 1)\n",
    "    noise_model.add_all_qubit_quantum_error(error, ['x', 'z', 'h'])\n",
    "\n",
    "    aersim = AerSimulator(method=\"stabilizer\", noise_model=noise_model)\n",
    "    built = transpile(qc, aersim)\n",
    "    job = aersim.run(built, shots = 5000)\n",
    "    result = job.result()\n",
    "    shots = result.get_counts()\n",
    "\n",
    "\n",
    "    fn, fp, tn, tp = 0, 0, 0, 0\n",
    "\n",
    "    for shot in list(shots.keys()):\n",
    "        counts = shots[shot]\n",
    "        a = cycles(shot, lattice.z_counter + lattice.x_counter, WIDTH, HEIGHT)\n",
    "        parity = ParityCheckMatrix(lattice.z_counter + lattice.x_counter, len(lattice.nodes) - lattice.z_counter - lattice.x_counter)\n",
    "        mm = parity._populate(lattice)\n",
    "        correction = ErrorCorrection(parity)\n",
    "        b = correction.analyze(np.array(list(reversed(a))[2:]))\n",
    "        if b[5] ^ b[8] ^ b[11] ^ b[14]:\n",
    "            a1, a2, a3, a4 = int(shot[0]), int(shot[1]), int(shot[2]), int(shot[3])\n",
    "            x1 = a1 ^ a2 ^ a3 ^ a4\n",
    "            b1, b2, b3, b4 = int(shot[127]), int(shot[126]), int(shot[125]), int(shot[124])\n",
    "            x2 = b1 ^ b2 ^ b3 ^ b4\n",
    "            x3 = x1 ^ x2\n",
    "            if x3:\n",
    "                fn += counts\n",
    "            else:\n",
    "                fp += counts\n",
    "        else:\n",
    "            a1, a2, a3, a4 = int(shot[0]), int(shot[1]), int(shot[2]), int(shot[3])\n",
    "            x1 = a1 ^ a2 ^ a3 ^ a4\n",
    "            b1, b2, b3, b4 = int(shot[127]), int(shot[126]), int(shot[125]), int(shot[124])\n",
    "            x2 = b1 ^ b2 ^ b3 ^ b4\n",
    "            x3 = x1 ^ x2\n",
    "            if x3:\n",
    "                tn += counts\n",
    "            else:\n",
    "                tp += counts\n",
    "\n",
    "    fns.append(fn)\n",
    "    fps.append(fp)\n",
    "    tns.append(tn)\n",
    "    tps.append(tp)\n",
    "\n"
   ]
  },
  {
   "cell_type": "code",
   "execution_count": 178,
   "metadata": {},
   "outputs": [
    {
     "data": {
      "text/plain": [
       "(94, 112, 342, 452)"
      ]
     },
     "execution_count": 178,
     "metadata": {},
     "output_type": "execute_result"
    }
   ],
   "source": [
    "fn, fp, tn, tp"
   ]
  },
  {
   "cell_type": "code",
   "execution_count": 179,
   "metadata": {},
   "outputs": [
    {
     "data": {
      "text/plain": [
       "99.436"
      ]
     },
     "execution_count": 179,
     "metadata": {},
     "output_type": "execute_result"
    }
   ],
   "source": [
    "(1 - ((tp + fp) / 100000)) * 100"
   ]
  },
  {
   "cell_type": "code",
   "execution_count": 180,
   "metadata": {},
   "outputs": [
    {
     "data": {
      "text/plain": [
       "99.454"
      ]
     },
     "execution_count": 180,
     "metadata": {},
     "output_type": "execute_result"
    }
   ],
   "source": [
    "(1 - ((fn + tp) / 100000)) * 100"
   ]
  },
  {
   "cell_type": "code",
   "execution_count": 226,
   "metadata": {},
   "outputs": [
    {
     "data": {
      "text/plain": [
       "<matplotlib.legend.Legend at 0x12af3ab40>"
      ]
     },
     "execution_count": 226,
     "metadata": {},
     "output_type": "execute_result"
    },
    {
     "data": {
      "image/png": "[encoded data removed]",
      "text/plain": [
       "<Figure size 640x480 with 1 Axes>"
      ]
     },
     "metadata": {},
     "output_type": "display_data"
    }
   ],
   "source": [
    "ids = np.arange(0, 50)\n",
    "\n",
    "plt.plot(ids, fns, label=\"fn\")\n",
    "plt.plot(ids, fps, label=\"fp\")\n",
    "plt.legend()"
   ]
  },
  {
   "cell_type": "code",
   "execution_count": 227,
   "metadata": {},
   "outputs": [
    {
     "data": {
      "text/plain": [
       "<matplotlib.legend.Legend at 0x12aafc680>"
      ]
     },
     "execution_count": 227,
     "metadata": {},
     "output_type": "execute_result"
    },
    {
     "data": {
      "image/png": "[encoded data removed]",
      "text/plain": [
       "<Figure size 640x480 with 1 Axes>"
      ]
     },
     "metadata": {},
     "output_type": "display_data"
    }
   ],
   "source": [
    "ids = np.arange(0, 50)\n",
    "\n",
    "plt.plot(ids, tns, label=\"tn\")\n",
    "plt.plot(ids, tps, label=\"tp\")\n",
    "plt.legend()"
   ]
  },
  {
   "cell_type": "code",
   "execution_count": 43,
   "metadata": {},
   "outputs": [
    {
     "data": {
      "text/plain": [
       "984"
      ]
     },
     "execution_count": 43,
     "metadata": {},
     "output_type": "execute_result"
    }
   ],
   "source": [
    "fp + tn + tp"
   ]
  },
  {
   "cell_type": "code",
   "execution_count": 44,
   "metadata": {},
   "outputs": [
    {
     "data": {
      "text/plain": [
       "0.984"
      ]
     },
     "execution_count": 44,
     "metadata": {},
     "output_type": "execute_result"
    }
   ],
   "source": [
    "984 / 1000"
   ]
  },
  {
   "cell_type": "code",
   "execution_count": 100,
   "metadata": {},
   "outputs": [],
   "source": [
    "def parse_results(shot: str):\n",
    "    a, b = int(shot[0]), int(shot[1])\n",
    "    c, d = int(shot[114]), int(shot[115])\n",
    "    x1 = a ^ b\n",
    "    x2 = c ^ d\n",
    "\n",
    "    return x1 ^ x2"
   ]
  },
  {
   "cell_type": "code",
   "execution_count": 101,
   "metadata": {},
   "outputs": [],
   "source": [
    "results = 0\n",
    "for shot in list(counts.keys()):\n",
    "    results += parse_results(shot)"
   ]
  },
  {
   "cell_type": "code",
   "execution_count": 102,
   "metadata": {},
   "outputs": [
    {
     "data": {
      "text/plain": [
       "1.866"
      ]
     },
     "execution_count": 102,
     "metadata": {},
     "output_type": "execute_result"
    }
   ],
   "source": [
    "results / 1000"
   ]
  },
  {
   "cell_type": "code",
   "execution_count": 176,
   "metadata": {},
   "outputs": [
    {
     "data": {
      "text/plain": [
       "168"
      ]
     },
     "execution_count": 176,
     "metadata": {},
     "output_type": "execute_result"
    }
   ],
   "source": [
    "len('1001 000001000101000101010001000101000101000 000001000101000101010001000101000001000 000001000101000101010000000001000101000 0001010000010000000001010000000000010000111')"
   ]
  },
  {
   "cell_type": "code",
   "execution_count": null,
   "metadata": {},
   "outputs": [],
   "source": [
    "000001000101000101010001000101000101000\n",
    "0001010000010000000001010000000000010000111"
   ]
  },
  {
   "cell_type": "code",
   "execution_count": 197,
   "metadata": {},
   "outputs": [
    {
     "data": {
      "text/plain": [
       "128"
      ]
     },
     "execution_count": 197,
     "metadata": {},
     "output_type": "execute_result"
    }
   ],
   "source": [
    "len('0100 000000000101010101000001000101000100000 000000000101010101000001000101000100000 0000000000000000000000010000000001000001101')"
   ]
  },
  {
   "cell_type": "code",
   "execution_count": null,
   "metadata": {},
   "outputs": [],
   "source": []
  }
 ],
 "metadata": {
  "kernelspec": {
   "display_name": "surface",
   "language": "python",
   "name": "python3"
  },
  "language_info": {
   "codemirror_mode": {
    "name": "ipython",
    "version": 3
   },
   "file_extension": ".py",
   "mimetype": "text/x-python",
   "name": "python",
   "nbconvert_exporter": "python",
   "pygments_lexer": "ipython3",
   "version": "3.12.1"
  }
 },
 "nbformat": 4,
 "nbformat_minor": 2
}
